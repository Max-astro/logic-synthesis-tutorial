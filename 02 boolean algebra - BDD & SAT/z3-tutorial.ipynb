{
 "cells": [
  {
   "cell_type": "code",
   "execution_count": 1,
   "id": "9f904093-4907-4954-b249-5a758c166d32",
   "metadata": {},
   "outputs": [],
   "source": [
    "from z3 import *"
   ]
  },
  {
   "cell_type": "markdown",
   "id": "fbe4fa98-59cd-49c4-957c-203d27d9d92e",
   "metadata": {},
   "source": [
    "---\n",
    "# **Revisit `N-queens` problem in sat-solver**"
   ]
  },
  {
   "cell_type": "code",
   "execution_count": 2,
   "id": "341eed4b-98fc-4bf9-b502-b9073b7d4324",
   "metadata": {},
   "outputs": [],
   "source": [
    "def print_board(pos):\n",
    "    n = len(pos)\n",
    "    for i in range(n):\n",
    "        row = ['_' for _ in range(n)]\n",
    "        idx =  pos[i].as_long() - 1\n",
    "        row[idx] = 'Q'\n",
    "        print(' '.join(row))\n",
    "            "
   ]
  },
  {
   "cell_type": "code",
   "execution_count": 9,
   "id": "c6c48179-1063-463a-9e5d-c43532c94f8c",
   "metadata": {},
   "outputs": [],
   "source": [
    "def n_queens_solutions(n):\n",
    "    # We know each queen must be in a different row.\n",
    "    # So, we represent each queen by a single integer: the column position\n",
    "    Q = [Int('Q_%i' % (i + 1)) for i in range(n)]\n",
    "\n",
    "    # Each queen is in a column {1, ... 8 }\n",
    "    val_c  = [And(1 <= Q[i], Q[i] <= n) for i in range(n)]\n",
    "    # At most one queen per column\n",
    "    col_c  = [Distinct(Q)]\n",
    "    # Diagonal constraint\n",
    "    diag_c = [If(i == j, True, And(Q[i] - Q[j] != i - j, Q[i] - Q[j] != j - i)) for i in range(n) for j in range(i)]\n",
    "\n",
    "    sol = Solver()\n",
    "    sol.add(val_c + col_c + diag_c)\n",
    "\n",
    "    num_solutions = 0\n",
    "\n",
    "    while sol.check() == sat:\n",
    "        mod = sol.model()\n",
    "        ss = [mod.evaluate(Q[i]) for i in range(n)]\n",
    "        # print(ss)\n",
    "        num_solutions += 1\n",
    "        sol.add(Or([Q[i] != ss[i] for i in range(n)]))\n",
    "\n",
    "    print(\"%d-queens num_solutions:\"%n, num_solutions)"
   ]
  },
  {
   "cell_type": "code",
   "execution_count": 10,
   "id": "2643a9a3-3480-460a-b909-3355b0ced264",
   "metadata": {},
   "outputs": [
    {
     "name": "stdout",
     "output_type": "stream",
     "text": [
      "1-queens num_solutions: 1\n",
      "2-queens num_solutions: 0\n",
      "3-queens num_solutions: 0\n",
      "4-queens num_solutions: 2\n",
      "5-queens num_solutions: 10\n",
      "6-queens num_solutions: 4\n",
      "7-queens num_solutions: 40\n",
      "8-queens num_solutions: 92\n",
      "9-queens num_solutions: 352\n",
      "10-queens num_solutions: 296\n"
     ]
    }
   ],
   "source": [
    "for i in range(1, 11):\n",
    "    n_queens_solutions(i)"
   ]
  },
  {
   "cell_type": "code",
   "execution_count": 11,
   "id": "9622f7f2-6e01-4d73-8143-2c024d1805c0",
   "metadata": {},
   "outputs": [],
   "source": [
    "def get_one_solution(n):\n",
    "    Q = [Int('Q_%i' % (i + 1)) for i in range(n)]\n",
    "\n",
    "    val_c  = [And(1 <= Q[i], Q[i] <= n) for i in range(n)]\n",
    "    col_c  = [Distinct(Q)]\n",
    "    diag_c = [If(i == j, True, And(Q[i] - Q[j] != i - j, Q[i] - Q[j] != j - i)) for i in range(n) for j in range(i)]\n",
    "\n",
    "\n",
    "    sol = Solver()\n",
    "    sol.add(val_c + col_c + diag_c)\n",
    "\n",
    "    if sol.check() == sat:\n",
    "        mod = sol.model()\n",
    "        ss = [mod.evaluate(Q[i]) for i in range(n)]\n",
    "        print(\"A solution of %d-queens problem:\"%n)\n",
    "        print(ss)\n",
    "        print_board(ss)"
   ]
  },
  {
   "cell_type": "code",
   "execution_count": 16,
   "id": "8c074097-adbe-4eff-848b-518f9621da5b",
   "metadata": {},
   "outputs": [
    {
     "name": "stdout",
     "output_type": "stream",
     "text": [
      "A solution of 22-queens problem:\n",
      "[16, 19, 12, 8, 17, 3, 9, 6, 20, 10, 2, 22, 14, 21, 4, 15, 1, 5, 7, 13, 11, 18]\n",
      "_ _ _ _ _ _ _ _ _ _ _ _ _ _ _ Q _ _ _ _ _ _\n",
      "_ _ _ _ _ _ _ _ _ _ _ _ _ _ _ _ _ _ Q _ _ _\n",
      "_ _ _ _ _ _ _ _ _ _ _ Q _ _ _ _ _ _ _ _ _ _\n",
      "_ _ _ _ _ _ _ Q _ _ _ _ _ _ _ _ _ _ _ _ _ _\n",
      "_ _ _ _ _ _ _ _ _ _ _ _ _ _ _ _ Q _ _ _ _ _\n",
      "_ _ Q _ _ _ _ _ _ _ _ _ _ _ _ _ _ _ _ _ _ _\n",
      "_ _ _ _ _ _ _ _ Q _ _ _ _ _ _ _ _ _ _ _ _ _\n",
      "_ _ _ _ _ Q _ _ _ _ _ _ _ _ _ _ _ _ _ _ _ _\n",
      "_ _ _ _ _ _ _ _ _ _ _ _ _ _ _ _ _ _ _ Q _ _\n",
      "_ _ _ _ _ _ _ _ _ Q _ _ _ _ _ _ _ _ _ _ _ _\n",
      "_ Q _ _ _ _ _ _ _ _ _ _ _ _ _ _ _ _ _ _ _ _\n",
      "_ _ _ _ _ _ _ _ _ _ _ _ _ _ _ _ _ _ _ _ _ Q\n",
      "_ _ _ _ _ _ _ _ _ _ _ _ _ Q _ _ _ _ _ _ _ _\n",
      "_ _ _ _ _ _ _ _ _ _ _ _ _ _ _ _ _ _ _ _ Q _\n",
      "_ _ _ Q _ _ _ _ _ _ _ _ _ _ _ _ _ _ _ _ _ _\n",
      "_ _ _ _ _ _ _ _ _ _ _ _ _ _ Q _ _ _ _ _ _ _\n",
      "Q _ _ _ _ _ _ _ _ _ _ _ _ _ _ _ _ _ _ _ _ _\n",
      "_ _ _ _ Q _ _ _ _ _ _ _ _ _ _ _ _ _ _ _ _ _\n",
      "_ _ _ _ _ _ Q _ _ _ _ _ _ _ _ _ _ _ _ _ _ _\n",
      "_ _ _ _ _ _ _ _ _ _ _ _ Q _ _ _ _ _ _ _ _ _\n",
      "_ _ _ _ _ _ _ _ _ _ Q _ _ _ _ _ _ _ _ _ _ _\n",
      "_ _ _ _ _ _ _ _ _ _ _ _ _ _ _ _ _ Q _ _ _ _\n"
     ]
    }
   ],
   "source": [
    "get_one_solution(22)"
   ]
  },
  {
   "cell_type": "code",
   "execution_count": 21,
   "id": "f99d5c66-0973-4c8b-9330-0ca959d774c7",
   "metadata": {},
   "outputs": [
    {
     "data": {
      "text/plain": [
       "\u001b[0;31mType:\u001b[0m        list\n",
       "\u001b[0;31mString form:\u001b[0m [4, 18, 3, 26, 22, 8, 11, 21, 7, 2, 17, 1, 6, 28, 20, 15, 27, 25, 5, 16, 12, 19, 24, 14, 9, 13, 10, 23]\n",
       "\u001b[0;31mLength:\u001b[0m      28\n",
       "\u001b[0;31mDocstring:\u001b[0m  \n",
       "Built-in mutable sequence.\n",
       "\n",
       "If no argument is given, the constructor creates a new empty list.\n",
       "The argument must be an iterable if specified.\n"
      ]
     },
     "metadata": {},
     "output_type": "display_data"
    }
   ],
   "source": [
    "ss?"
   ]
  },
  {
   "cell_type": "markdown",
   "id": "c638259c-ae43-4f56-ba85-5f3372e3633b",
   "metadata": {},
   "source": [
    "---\n",
    "# **Solving `Sudoku` problem using sat-solver**\n",
    "\n",
    "<img src=\"https://ericpony.github.io/z3py-tutorial/examples/sudoku.png\" width=\"300\" />"
   ]
  },
  {
   "cell_type": "code",
   "execution_count": 17,
   "id": "2bfe1281-2b31-41a7-a1d9-c27ee8a2a10c",
   "metadata": {},
   "outputs": [
    {
     "name": "stdout",
     "output_type": "stream",
     "text": [
      "[[7, 1, 5, 8, 9, 4, 6, 3, 2],\n",
      " [2, 3, 4, 5, 1, 6, 8, 9, 7],\n",
      " [6, 8, 9, 7, 2, 3, 1, 4, 5],\n",
      " [4, 9, 3, 6, 5, 7, 2, 1, 8],\n",
      " [8, 6, 7, 2, 3, 1, 9, 5, 4],\n",
      " [1, 5, 2, 4, 8, 9, 7, 6, 3],\n",
      " [3, 7, 6, 1, 4, 8, 5, 2, 9],\n",
      " [9, 2, 8, 3, 6, 5, 4, 7, 1],\n",
      " [5, 4, 1, 9, 7, 2, 3, 8, 6]]\n"
     ]
    }
   ],
   "source": [
    "# 9x9 matrix of integer variables\n",
    "X = [ [ Int(\"x_%s_%s\" % (i+1, j+1)) for j in range(9) ]\n",
    "      for i in range(9) ]\n",
    "\n",
    "# each cell contains a value in {1, ..., 9}\n",
    "cells_c  = [ And(1 <= X[i][j], X[i][j] <= 9)\n",
    "             for i in range(9) for j in range(9) ]\n",
    "\n",
    "# each row contains a digit at most once\n",
    "rows_c   = [ Distinct(X[i]) for i in range(9) ]\n",
    "\n",
    "# each column contains a digit at most once\n",
    "cols_c   = [ Distinct([ X[i][j] for i in range(9) ])\n",
    "             for j in range(9) ]\n",
    "\n",
    "# each 3x3 square contains a digit at most once\n",
    "sq_c     = [ Distinct([ X[3*i0 + i][3*j0 + j]\n",
    "                        for i in range(3) for j in range(3) ])\n",
    "             for i0 in range(3) for j0 in range(3) ]\n",
    "\n",
    "sudoku_c = cells_c + rows_c + cols_c + sq_c\n",
    "\n",
    "# sudoku instance, we use '0' for empty cells\n",
    "instance = ((0,0,0,0,9,4,0,3,0),\n",
    "            (0,0,0,5,1,0,0,0,7),\n",
    "            (0,8,9,0,0,0,0,4,0),\n",
    "            (0,0,0,0,0,0,2,0,8),\n",
    "            (0,6,0,2,0,1,0,5,0),\n",
    "            (1,0,2,0,0,0,0,0,0),\n",
    "            (0,7,0,0,0,0,5,2,0),\n",
    "            (9,0,0,0,6,5,0,0,0),\n",
    "            (0,4,0,9,7,0,0,0,0))\n",
    "\n",
    "instance_c = [ If(instance[i][j] == 0,\n",
    "                  True,\n",
    "                  X[i][j] == instance[i][j])\n",
    "               for i in range(9) for j in range(9) ]\n",
    "\n",
    "s = Solver()\n",
    "s.add(sudoku_c + instance_c)\n",
    "if s.check() == sat:\n",
    "    m = s.model()\n",
    "    r = [ [ m.evaluate(X[i][j]) for j in range(9) ]\n",
    "          for i in range(9) ]\n",
    "    print_matrix(r)\n",
    "else:\n",
    "    print (\"failed to solve\")"
   ]
  },
  {
   "cell_type": "code",
   "execution_count": null,
   "id": "8dac444a-d5f0-44fd-b830-ca3f0bae9982",
   "metadata": {},
   "outputs": [],
   "source": []
  }
 ],
 "metadata": {
  "kernelspec": {
   "display_name": "Python 3 (ipykernel)",
   "language": "python",
   "name": "python3"
  },
  "language_info": {
   "codemirror_mode": {
    "name": "ipython",
    "version": 3
   },
   "file_extension": ".py",
   "mimetype": "text/x-python",
   "name": "python",
   "nbconvert_exporter": "python",
   "pygments_lexer": "ipython3",
   "version": "3.9.13"
  }
 },
 "nbformat": 4,
 "nbformat_minor": 5
}
